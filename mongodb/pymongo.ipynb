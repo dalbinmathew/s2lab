{
 "cells": [
  {
   "cell_type": "code",
   "execution_count": 6,
   "metadata": {},
   "outputs": [],
   "source": [
    "import pymongo\n",
    "myclient=pymongo.MongoClient(\"mongodb://localhost:27017\")\n",
    "db=myclient[\"test\"]\n",
    "col=db[\"testing\"]"
   ]
  },
  {
   "cell_type": "code",
   "execution_count": 6,
   "metadata": {},
   "outputs": [],
   "source": [
    "document = {\"name\": \"John Doe\", \"age\": 30}\n",
    "result = col.insert_one(document)"
   ]
  },
  {
   "cell_type": "code",
   "execution_count": 7,
   "metadata": {},
   "outputs": [],
   "source": [
    "documents = [{\"name\": \"Alice\", \"age\": 25}, {\"name\": \"Bob\", \"age\": 35}]\n",
    "result = col.insert_many(documents)"
   ]
  },
  {
   "cell_type": "code",
   "execution_count": 8,
   "metadata": {},
   "outputs": [
    {
     "name": "stdout",
     "output_type": "stream",
     "text": [
      "{'_id': ObjectId('668d450d4f65030e0fac0163'), 'name': 'Alice', 'age': 26}\n",
      "{'_id': ObjectId('668d450d4f65030e0fac0164'), 'name': 'Bob', 'age': 35}\n"
     ]
    }
   ],
   "source": [
    "query = {\"age\": {\"$gt\": 25}}  # Find documents where age is greater than 25\n",
    "results = col.find(query)\n",
    "\n",
    "# Iterate over the query results\n",
    "for doc in results:\n",
    "    print(doc)\n"
   ]
  },
  {
   "cell_type": "code",
   "execution_count": 12,
   "metadata": {},
   "outputs": [],
   "source": [
    "# Update a single document\n",
    "filter = {\"name\": \"John Doe\"}\n",
    "update = {\"$set\": {\"age\": 32}}  # Update the age field\n",
    "result = col.update_one(filter, update)\n",
    "\n",
    "# Update multiple documents\n",
    "filter = {\"age\": {\"$lt\": 30}}  # Filter documents where age is less than 30\n",
    "update = {\"$inc\": {\"age\": 1}}  # Increment the age field by 1\n",
    "result = col.update_many(filter, update)"
   ]
  },
  {
   "cell_type": "code",
   "execution_count": 7,
   "metadata": {},
   "outputs": [],
   "source": [
    "filter = {\"name\": \"John Doe\"}\n",
    "result = col.delete_one(filter)"
   ]
  }
 ],
 "metadata": {
  "kernelspec": {
   "display_name": "Python 3",
   "language": "python",
   "name": "python3"
  },
  "language_info": {
   "codemirror_mode": {
    "name": "ipython",
    "version": 3
   },
   "file_extension": ".py",
   "mimetype": "text/x-python",
   "name": "python",
   "nbconvert_exporter": "python",
   "pygments_lexer": "ipython3",
   "version": "3.12.0"
  }
 },
 "nbformat": 4,
 "nbformat_minor": 2
}
