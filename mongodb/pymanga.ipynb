{
 "cells": [
  {
   "cell_type": "code",
   "execution_count": 1,
   "metadata": {},
   "outputs": [],
   "source": [
    "import pymongo \n",
    "myclient=pymongo.MongoClient(\"mongodb://localhost:27017\")\n",
    "db=myclient[\"college\"]\n",
    "col=db[\"studlist\"]"
   ]
  },
  {
   "cell_type": "code",
   "execution_count": 7,
   "metadata": {},
   "outputs": [
    {
     "name": "stdout",
     "output_type": "stream",
     "text": [
      "{'name': {'fname': 'Athira', 'lname': 'Krishnan'}, 'mark': 80}\n",
      "{'name': {'fname': 'Divya', 'lname': 'Vijayan'}, 'mark': 70}\n",
      "{'name': {'fname': 'Renuka', 'lname': 'Vijayan'}, 'mark': 82}\n",
      "{'name': {'fname': 'Remya', 'lname': 'V'}, 'mark': 85}\n",
      "{'name': {'fname': 'Remya', 'lname': 'Sugunan'}, 'mark': 72}\n",
      "{'name': {'fname': 'Vidhya', 'lname': 'Sugunan'}, 'mark': 79}\n",
      "{'name': {'fname': 'Soorya', 'lname': 'S'}, 'mark': 79}\n",
      "{'name': {'fname': 'Amritha', 'lname': 'S'}, 'mark': 99}\n",
      "{'name': {'fname': 'Soorya', 'lname': 'P'}, 'mark': 74}\n"
     ]
    }
   ],
   "source": [
    "query={\"gender\": \"female\", \"course\": \"MCA\"}\n",
    "result=col.find(query,{\"mark\":1,\"name\":1,\"_id\":0})\n",
    "for i in result:\n",
    "    print(i)"
   ]
  },
  {
   "cell_type": "code",
   "execution_count": 8,
   "metadata": {},
   "outputs": [
    {
     "name": "stdout",
     "output_type": "stream",
     "text": [
      "{'_id': 20, 'name': {'fname': 'Amritha', 'lname': 'S'}, 'address': {'house_name': 'Arya Bhavan', 'city': 'Varkala'}, 'gender': 'female', 'course': 'MCA', 'mark': 99, 'grade': 'A+', 'phone': {'type': 'mobile', 'no': 9445365787}}\n"
     ]
    }
   ],
   "source": [
    "query={\"course\":\"MCA\"}\n",
    "result=col.find(query).sort({\"mark\":-1}).limit(1)\n",
    "for i in result:\n",
    "    print(i)"
   ]
  },
  {
   "cell_type": "code",
   "execution_count": 9,
   "metadata": {},
   "outputs": [
    {
     "name": "stdout",
     "output_type": "stream",
     "text": [
      "{'name': {'fname': 'Vimal', 'lname': 'Vinayan'}}\n",
      "{'name': {'fname': 'Vimal', 'lname': 'Bose'}}\n",
      "{'name': {'fname': 'Arun', 'lname': 'S'}}\n"
     ]
    }
   ],
   "source": [
    "query={\"gender\":\"male\",\"grade\":\"A+\"}\n",
    "result=col.find(query,{\"_id\":0,\"name\":1})\n",
    "for i in result:\n",
    "    print(i)"
   ]
  }
 ],
 "metadata": {
  "kernelspec": {
   "display_name": "Python 3",
   "language": "python",
   "name": "python3"
  },
  "language_info": {
   "codemirror_mode": {
    "name": "ipython",
    "version": 3
   },
   "file_extension": ".py",
   "mimetype": "text/x-python",
   "name": "python",
   "nbconvert_exporter": "python",
   "pygments_lexer": "ipython3",
   "version": "3.12.0"
  }
 },
 "nbformat": 4,
 "nbformat_minor": 2
}
